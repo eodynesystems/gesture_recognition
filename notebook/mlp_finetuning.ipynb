{
 "cells": [
  {
   "cell_type": "code",
   "execution_count": 1,
   "metadata": {},
   "outputs": [],
   "source": [
    "# import general classes for data processing\n",
    "import ruptures as rpt\n",
    "import seaborn as sns\n",
    "import matplotlib.pyplot as plt\n",
    "import pandas as pd \n",
    "import numpy as np\n",
    "import seaborn as sns\n",
    "\n",
    "from sklearn.metrics import accuracy_score\n",
    "from sklearn.preprocessing import LabelEncoder\n",
    "\n",
    "# import our custom classes\n",
    "import sys\n",
    "path_to_directory = '../'\n",
    "if path_to_directory not in sys.path:\n",
    "    sys.path.append(path_to_directory)\n",
    "from model import Signal, GestureRecognitionModel\n",
    "from model import GestureRecognitionDataset\n",
    "\n",
    "# import MLP\n",
    "from sklearn.neural_network import MLPClassifier\n",
    "\n",
    "# import for loop and XGboost\n",
    "from tqdm.notebook import tqdm\n",
    "from xgboost import XGBClassifier\n",
    "\n",
    "# import model saving\n",
    "import joblib"
   ]
  },
  {
   "cell_type": "code",
   "execution_count": 2,
   "metadata": {},
   "outputs": [
    {
     "data": {
      "text/plain": [
       "['Aarushi', 'Ester', 'Imen', 'Lluis', 'Sergi', 'Sergio']"
      ]
     },
     "execution_count": 2,
     "metadata": {},
     "output_type": "execute_result"
    }
   ],
   "source": [
    "df = pd.read_csv('assets\\data_rem.csv')\n",
    "\n",
    "subjects = list(df.subject.unique())\n",
    "subjects.remove(\"Mario\")\n",
    "subjects.remove(\"Hanaa\")\n",
    "subjects.remove(\"Alex\")\n",
    "subjects.remove(\"David\")\n",
    "subjects.remove(\"Francisco\")\n",
    "\n",
    "df = df[df['subject'].isin(subjects)]\n",
    "subjects"
   ]
  },
  {
   "cell_type": "code",
   "execution_count": 3,
   "metadata": {},
   "outputs": [
    {
     "data": {
      "application/vnd.jupyter.widget-view+json": {
       "model_id": "ac5267be2e0a42c5932c97b68da202a8",
       "version_major": 2,
       "version_minor": 0
      },
      "text/plain": [
       "0it [00:00, ?it/s]"
      ]
     },
     "metadata": {},
     "output_type": "display_data"
    },
    {
     "name": "stderr",
     "output_type": "stream",
     "text": [
      "c:\\Users\\fents\\anaconda3\\lib\\site-packages\\sklearn\\neural_network\\_multilayer_perceptron.py:699: UserWarning: Training interrupted by user.\n",
      "  warnings.warn(\"Training interrupted by user.\")\n"
     ]
    }
   ],
   "source": [
    "test_sets = [1, 2, 3]\n",
    "train_sets = [1, 2, 3]\n",
    "\n",
    "subjects = list(df.subject.unique())\n",
    "\n",
    "accuracy_matrix = np.zeros((len(subjects), 1, len(train_sets), len(test_sets), 2))\n",
    "# Dimension breakdown:\n",
    "# len(subjects) - Number of subjects\n",
    "# 1 - Single value for accuracy_pre per subject\n",
    "# len(train_sets) - Number of training sets\n",
    "# len(test_sets) - Number of testing sets\n",
    "# 2 - Accuracy_pre and Accuracy_post\n",
    "\n",
    "for subject_idx, person_test in  tqdm(enumerate(subjects)):\n",
    "\n",
    "    model = MLPClassifier(random_state=1,hidden_layer_sizes =50,max_iter=500)\n",
    "\n",
    "    selected_columns = [ 'mav_0', 'mav_1', 'mav_2', 'mav_3', 'mav_4', 'mav_5', 'mav_6', 'mav_7',\n",
    "    'rms_0', 'rms_1', 'rms_2', 'rms_3', 'rms_4', 'rms_5', 'rms_6', 'rms_7',\n",
    "    'ssc_0', 'ssc_1', 'ssc_2', 'ssc_3', 'ssc_4', 'ssc_5', 'ssc_6', 'ssc_7',\n",
    "    'wl_0', 'wl_1', 'wl_2', 'wl_3', 'wl_4', 'wl_5', 'wl_6', 'wl_7', 'var_0',\n",
    "    'var_1', 'var_2', 'var_3', 'var_4', 'var_5', 'var_6', 'var_7', 'iasd_0',\n",
    "    'iasd_1', 'iasd_2', 'iasd_3', 'iasd_4', 'iasd_5', 'iasd_6', 'iasd_7',\n",
    "    'iatd_0', 'iatd_1', 'iatd_2', 'iatd_3', 'iatd_4', 'iatd_5', 'iatd_6',\n",
    "    'iatd_7']\n",
    "\n",
    "    df_train = df[(df['subject'] != person_test)]\n",
    "    df_test = df[(df['subject'] == person_test)]\n",
    "\n",
    "    X_train = df_train[selected_columns]\n",
    "    y_train = df_train['gesture']\n",
    "    X_test = df_test[selected_columns]\n",
    "    y_test = df_test['gesture']        \n",
    "\n",
    "    label_encoder = LabelEncoder()\n",
    "    Y_encoded = label_encoder.fit_transform(y_train)\n",
    "    y_train = Y_encoded \n",
    "\n",
    "    Y_encoded2 = label_encoder.fit_transform(y_test)\n",
    "    y_test = Y_encoded2 \n",
    "\n",
    "    model.fit(X_train, y_train)\n",
    "\n",
    "    y_pred = model.predict(X_test)\n",
    "\n",
    "    predictions = [round(value) for value in y_pred]\n",
    "    predicted_labels_decoded = label_encoder.inverse_transform(predictions)\n",
    "\n",
    "    accuracy_pre = accuracy_score(y_test, predictions)*100\n",
    "    accuracy_matrix[subject_idx, 0, 0, 0, 0] = accuracy_pre\n",
    "\n",
    "    for train_idx, Take_to_train in enumerate(train_sets):\n",
    "        for test_idx, Take_to_test in enumerate(test_sets):\n",
    "\n",
    "            df2 = df[(df['subject'] == person_test)] \n",
    "            model2 = model\n",
    "\n",
    "            df_train2 = df2[(df2['take'] == Take_to_train)]\n",
    "            df_test2 = df2[(df2['take'] == Take_to_test)]\n",
    "\n",
    "            X_train2 = df_train2[selected_columns]\n",
    "            y_train2 = df_train2['gesture']\n",
    "            X_test2 = df_test2[selected_columns]\n",
    "            y_test2 = df_test2['gesture']\n",
    "\n",
    "            label_encoder = LabelEncoder()\n",
    "            Y_encoded = label_encoder.fit_transform(y_train2)\n",
    "            y_train2 = Y_encoded \n",
    "\n",
    "            Y_encoded2 = label_encoder.fit_transform(y_test2)\n",
    "            y_test2 = Y_encoded2 \n",
    "            \n",
    "\n",
    "            model2.partial_fit(X_train2, y_train2, classes=np.unique(y_train2))\n",
    "\n",
    "            y_pred = model2.predict(X_test2)\n",
    "\n",
    "            predictions = [round(value) for value in y_pred]\n",
    "            predicted_labels_decoded = label_encoder.inverse_transform(predictions)\n",
    "            \n",
    "            accuracy_post = accuracy_score(y_test2, predictions)*100\n",
    "\n",
    "            accuracy_matrix[subject_idx, 0, train_idx, test_idx, 1] = accuracy_post"
   ]
  },
  {
   "cell_type": "code",
   "execution_count": 11,
   "metadata": {},
   "outputs": [
    {
     "name": "stdout",
     "output_type": "stream",
     "text": [
      "[['pretrained' 'finetuned']\n",
      " ['42.36695988520806' '71.22300567186211']\n",
      " ['21.569201493083508' '55.520216280398586']\n",
      " ['47.09792709077913' '63.79681947931322']\n",
      " ['56.59416299559471' '75.54055427607591']\n",
      " ['37.91985007928499' '51.90336606473116']\n",
      " ['44.07455091655938' '56.112641421627444']]\n"
     ]
    }
   ],
   "source": [
    "accuracy_matrix = np.load('assets\\accuracy_matrix.npy')\n",
    "\n",
    "results_matrix = np.zeros((6, 2))\n",
    "\n",
    "# selecting relevant accuracies in constructed matrices\n",
    "for i in range(6):\n",
    "\n",
    "    sub = accuracy_matrix[i:i+1]\n",
    "    Pretrained_acc = sub[0][0][0][0][0]\n",
    "   \n",
    "    # remove the specified numbers\n",
    "    sub[0, 0, 0, 0, 1] = 0  # remove the first number of the first subsection\n",
    "    sub[0, 0, 1, 1, 1] = 0  # remove the second number of the second subsection\n",
    "    sub[0, 0, 2, 2, 1] = 0  # remove the third number of the third subsection\n",
    "\n",
    "    second_column = sub[0, 0, :, :, 1]\n",
    "    non_zero_values = second_column[second_column != 0]\n",
    "    average_non_zero = np.mean(non_zero_values)\n",
    "\n",
    "    results_matrix[i, 0] = Pretrained_acc\n",
    "    results_matrix[i, 1] = average_non_zero\n",
    "\n",
    "labeled_data = np.vstack(([\"pretrained\", \"finetuned\"], results_matrix))\n",
    "print(labeled_data)\n",
    "np.save('Average_accuracies',results_matrix)"
   ]
  },
  {
   "cell_type": "code",
   "execution_count": 13,
   "metadata": {},
   "outputs": [
    {
     "data": {
      "application/vnd.jupyter.widget-view+json": {
       "model_id": "52c034df6a3043a5800a448d78b1f94c",
       "version_major": 2,
       "version_minor": 0
      },
      "text/plain": [
       "0it [00:00, ?it/s]"
      ]
     },
     "metadata": {},
     "output_type": "display_data"
    },
    {
     "name": "stdout",
     "output_type": "stream",
     "text": [
      "Average of each subject: [75.87890459 57.51607498 69.00701482 79.67279265 56.9820413  66.35050804]\n"
     ]
    }
   ],
   "source": [
    "# same process for xgboost:\n",
    "\n",
    "df = pd.read_csv('assets\\data_rem.csv')\n",
    "subjects = list(df.subject.unique())\n",
    "subjects.remove(\"Mario\")\n",
    "subjects.remove(\"Hanaa\")\n",
    "subjects.remove(\"Alex\")\n",
    "subjects.remove(\"David\")\n",
    "subjects.remove(\"Francisco\")\n",
    "\n",
    "df = df[df['subject'].isin(subjects)]\n",
    "\n",
    "selected_columns = [ 'mav_0', 'mav_1', 'mav_2', 'mav_3', 'mav_4', 'mav_5', 'mav_6', 'mav_7',\n",
    "       'rms_0', 'rms_1', 'rms_2', 'rms_3', 'rms_4', 'rms_5', 'rms_6', 'rms_7',\n",
    "       'ssc_0', 'ssc_1', 'ssc_2', 'ssc_3', 'ssc_4', 'ssc_5', 'ssc_6', 'ssc_7',\n",
    "       'wl_0', 'wl_1', 'wl_2', 'wl_3', 'wl_4', 'wl_5', 'wl_6', 'wl_7', 'var_0',\n",
    "       'var_1', 'var_2', 'var_3', 'var_4', 'var_5', 'var_6', 'var_7', 'iasd_0',\n",
    "       'iasd_1', 'iasd_2', 'iasd_3', 'iasd_4', 'iasd_5', 'iasd_6', 'iasd_7',\n",
    "       'iatd_0', 'iatd_1', 'iatd_2', 'iatd_3', 'iatd_4', 'iatd_5', 'iatd_6',\n",
    "       'iatd_7']\n",
    "            \n",
    "\n",
    "train_sets = [1, 2, 3]\n",
    "\n",
    "subjects = list(df.subject.unique())\n",
    "xgboost_accuracies = [[0 for _ in range(len(train_sets))] for _ in range(len(subjects))]\n",
    "\n",
    "for subject_idx, person_test in  tqdm(enumerate(subjects)):\n",
    "    for train_idx, Take_to_test in enumerate(train_sets):\n",
    "          \n",
    "        df2 = df[(df['subject'] == person_test)]\n",
    "        model = XGBClassifier()\n",
    "\n",
    "        df_train = df2[(df2['take'] != Take_to_test)]\n",
    "        df_test = df2[(df2['take'] == Take_to_test)]\n",
    "     \n",
    "        X_train = df_train[selected_columns]\n",
    "        y_train = df_train['gesture']\n",
    "        X_test = df_test[selected_columns]\n",
    "        y_test = df_test['gesture']\n",
    "\n",
    "        label_encoder = LabelEncoder()\n",
    "        Y_encoded = label_encoder.fit_transform(y_train)\n",
    "        y_train = Y_encoded \n",
    "\n",
    "        Y_encoded2 = label_encoder.fit_transform(y_test)\n",
    "        y_test = Y_encoded2 \n",
    "\n",
    "        model.fit(X_train, y_train)\n",
    "\n",
    "        y_pred = model.predict(X_test)\n",
    "\n",
    "        predictions = [round(value) for value in y_pred]\n",
    "        predicted_labels_decoded = label_encoder.inverse_transform(predictions)\n",
    "\n",
    "        accuracy = accuracy_score(y_test, predictions)*100\n",
    "        xgboost_accuracies[subject_idx][train_idx] = accuracy\n",
    "\n",
    "row_averages = np.mean(xgboost_accuracies, axis=1)\n",
    "\n",
    "print(\"Average of each subject:\", row_averages)"
   ]
  },
  {
   "cell_type": "code",
   "execution_count": null,
   "metadata": {},
   "outputs": [],
   "source": [
    "np.save('Average_accuracies_xgboost',xgboost_accuracies)"
   ]
  }
 ],
 "metadata": {
  "kernelspec": {
   "display_name": "base",
   "language": "python",
   "name": "python3"
  },
  "language_info": {
   "codemirror_mode": {
    "name": "ipython",
    "version": 3
   },
   "file_extension": ".py",
   "mimetype": "text/x-python",
   "name": "python",
   "nbconvert_exporter": "python",
   "pygments_lexer": "ipython3",
   "version": "3.9.13"
  }
 },
 "nbformat": 4,
 "nbformat_minor": 2
}
